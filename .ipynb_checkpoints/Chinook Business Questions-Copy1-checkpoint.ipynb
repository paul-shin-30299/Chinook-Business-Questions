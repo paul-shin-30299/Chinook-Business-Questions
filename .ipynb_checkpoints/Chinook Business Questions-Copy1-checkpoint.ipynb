{
 "cells": [
  {
   "cell_type": "markdown",
   "metadata": {
    "collapsed": true
   },
   "source": [
    "# Introduction and Schema Diagram\n",
    "\n",
    "We'll be working on the [Chinook](https://github.com/lerocha/chinook-database) database which represents a digital media store, including tables for artists, albums, media tracks, invoices and customers. The data is taken from using real data from an iTunes library, and was obtained through github repository. We'll use the data to answer some business questions such as:\n",
    "\n",
    "- What albums to purchase?\n",
    "- How are employee sales doing?\n",
    "- Which countries are purchasing from Chinook?\n",
    "-  Are albums puchases or individual track purchases better?"
   ]
  },
  {
   "cell_type": "markdown",
   "metadata": {},
   "source": [
    "# Overview of the data\n",
    "\n",
    "Below we'll load in the chinook data base. A database schema will also be provided to show the different relationships the database has."
   ]
  },
  {
   "cell_type": "code",
   "execution_count": 1,
   "metadata": {
    "collapsed": true
   },
   "outputs": [],
   "source": [
    "#loading into chinook data base"
   ]
  },
  {
   "cell_type": "code",
   "execution_count": 2,
   "metadata": {
    "collapsed": false
   },
   "outputs": [
    {
     "data": {
      "text/plain": [
       "'Connected: None@chinook.db'"
      ]
     },
     "execution_count": 2,
     "metadata": {},
     "output_type": "execute_result"
    }
   ],
   "source": [
    "%%capture\n",
    "%load_ext sql\n",
    "%sql sqlite:///chinook.db"
   ]
  },
  {
   "cell_type": "code",
   "execution_count": 3,
   "metadata": {
    "collapsed": true
   },
   "outputs": [],
   "source": [
    "#checking list of all tables and views in the data base"
   ]
  },
  {
   "cell_type": "code",
   "execution_count": 4,
   "metadata": {
    "collapsed": false,
    "scrolled": true
   },
   "outputs": [
    {
     "name": "stdout",
     "output_type": "stream",
     "text": [
      "Done.\n"
     ]
    },
    {
     "data": {
      "text/html": [
       "<table>\n",
       "    <tr>\n",
       "        <th>name</th>\n",
       "        <th>type</th>\n",
       "    </tr>\n",
       "    <tr>\n",
       "        <td>album</td>\n",
       "        <td>table</td>\n",
       "    </tr>\n",
       "    <tr>\n",
       "        <td>artist</td>\n",
       "        <td>table</td>\n",
       "    </tr>\n",
       "    <tr>\n",
       "        <td>customer</td>\n",
       "        <td>table</td>\n",
       "    </tr>\n",
       "    <tr>\n",
       "        <td>employee</td>\n",
       "        <td>table</td>\n",
       "    </tr>\n",
       "    <tr>\n",
       "        <td>genre</td>\n",
       "        <td>table</td>\n",
       "    </tr>\n",
       "    <tr>\n",
       "        <td>invoice</td>\n",
       "        <td>table</td>\n",
       "    </tr>\n",
       "    <tr>\n",
       "        <td>invoice_line</td>\n",
       "        <td>table</td>\n",
       "    </tr>\n",
       "    <tr>\n",
       "        <td>media_type</td>\n",
       "        <td>table</td>\n",
       "    </tr>\n",
       "    <tr>\n",
       "        <td>playlist</td>\n",
       "        <td>table</td>\n",
       "    </tr>\n",
       "    <tr>\n",
       "        <td>playlist_track</td>\n",
       "        <td>table</td>\n",
       "    </tr>\n",
       "    <tr>\n",
       "        <td>track</td>\n",
       "        <td>table</td>\n",
       "    </tr>\n",
       "</table>"
      ],
      "text/plain": [
       "[('album', 'table'),\n",
       " ('artist', 'table'),\n",
       " ('customer', 'table'),\n",
       " ('employee', 'table'),\n",
       " ('genre', 'table'),\n",
       " ('invoice', 'table'),\n",
       " ('invoice_line', 'table'),\n",
       " ('media_type', 'table'),\n",
       " ('playlist', 'table'),\n",
       " ('playlist_track', 'table'),\n",
       " ('track', 'table')]"
      ]
     },
     "execution_count": 4,
     "metadata": {},
     "output_type": "execute_result"
    }
   ],
   "source": [
    "%%sql\n",
    "SELECT name, type\n",
    "FROM sqlite_master\n",
    "WHERE type in ('table', 'view');"
   ]
  },
  {
   "cell_type": "markdown",
   "metadata": {},
   "source": [
    "The database schema that is correlated with the tables above is: ![Chinook Schema](https://s3.amazonaws.com/dq-content/191/chinook-schema.svg)\n",
    "\n",
    "The schema shows the different columns available within each table as well as the relation the different 11 tables have with each other."
   ]
  },
  {
   "cell_type": "markdown",
   "metadata": {},
   "source": [
    "# Selecting Albums to Purchase\n",
    "\n",
    "The Chinook record store just signed a deal with a new record label, and we need to select the first three albums that will be added to the store. The artists four albums that can be selected, do not have any tracks in the store currently.The albums that can be selected are: \n",
    "\n",
    "| Artist Name | Genre |\n",
    "| --- | --- |\n",
    "|Regal |Hip Hop |\n",
    "|Red Tone |Punk |\n",
    "|Meteor and the Girls |Pop |\n",
    "|Slim Jim Bites |Blues |\n",
    "\n",
    " The record label specializes in signing artists from teh US, so they have given Chinook some money to advertise the new albums in the US. Our task is to find out which genres sell the best in the US."
   ]
  },
  {
   "cell_type": "code",
   "execution_count": 5,
   "metadata": {
    "collapsed": true
   },
   "outputs": [],
   "source": [
    "#finding number of tracks sold and revenue generated by genre in USA"
   ]
  },
  {
   "cell_type": "code",
   "execution_count": 17,
   "metadata": {
    "collapsed": false,
    "scrolled": true
   },
   "outputs": [
    {
     "name": "stdout",
     "output_type": "stream",
     "text": [
      "Done.\n"
     ]
    },
    {
     "data": {
      "text/html": [
       "<table>\n",
       "    <tr>\n",
       "        <th>genre</th>\n",
       "        <th>revenue</th>\n",
       "        <th>num_sold</th>\n",
       "        <th>percent_sold</th>\n",
       "    </tr>\n",
       "    <tr>\n",
       "        <td>Rock</td>\n",
       "        <td>5568.75</td>\n",
       "        <td>561</td>\n",
       "        <td>53.38</td>\n",
       "    </tr>\n",
       "    <tr>\n",
       "        <td>Alternative &amp; Punk</td>\n",
       "        <td>1234.53</td>\n",
       "        <td>130</td>\n",
       "        <td>12.37</td>\n",
       "    </tr>\n",
       "    <tr>\n",
       "        <td>Metal</td>\n",
       "        <td>1025.64</td>\n",
       "        <td>124</td>\n",
       "        <td>11.8</td>\n",
       "    </tr>\n",
       "    <tr>\n",
       "        <td>R&amp;B/Soul</td>\n",
       "        <td>633.6</td>\n",
       "        <td>53</td>\n",
       "        <td>5.04</td>\n",
       "    </tr>\n",
       "    <tr>\n",
       "        <td>Blues</td>\n",
       "        <td>453.42</td>\n",
       "        <td>36</td>\n",
       "        <td>3.43</td>\n",
       "    </tr>\n",
       "    <tr>\n",
       "        <td>Alternative</td>\n",
       "        <td>369.27</td>\n",
       "        <td>35</td>\n",
       "        <td>3.33</td>\n",
       "    </tr>\n",
       "    <tr>\n",
       "        <td>Hip Hop/Rap</td>\n",
       "        <td>366.3</td>\n",
       "        <td>20</td>\n",
       "        <td>1.9</td>\n",
       "    </tr>\n",
       "    <tr>\n",
       "        <td>Pop</td>\n",
       "        <td>201.96</td>\n",
       "        <td>22</td>\n",
       "        <td>2.09</td>\n",
       "    </tr>\n",
       "    <tr>\n",
       "        <td>Latin</td>\n",
       "        <td>162.36</td>\n",
       "        <td>22</td>\n",
       "        <td>2.09</td>\n",
       "    </tr>\n",
       "    <tr>\n",
       "        <td>Jazz</td>\n",
       "        <td>125.73</td>\n",
       "        <td>14</td>\n",
       "        <td>1.33</td>\n",
       "    </tr>\n",
       "    <tr>\n",
       "        <td>Easy Listening</td>\n",
       "        <td>95.04</td>\n",
       "        <td>13</td>\n",
       "        <td>1.24</td>\n",
       "    </tr>\n",
       "    <tr>\n",
       "        <td>Reggae</td>\n",
       "        <td>51.48</td>\n",
       "        <td>6</td>\n",
       "        <td>0.57</td>\n",
       "    </tr>\n",
       "    <tr>\n",
       "        <td>Electronica/Dance</td>\n",
       "        <td>34.65</td>\n",
       "        <td>5</td>\n",
       "        <td>0.48</td>\n",
       "    </tr>\n",
       "    <tr>\n",
       "        <td>Heavy Metal</td>\n",
       "        <td>30.69</td>\n",
       "        <td>3</td>\n",
       "        <td>0.29</td>\n",
       "    </tr>\n",
       "    <tr>\n",
       "        <td>Classical</td>\n",
       "        <td>21.78</td>\n",
       "        <td>4</td>\n",
       "        <td>0.38</td>\n",
       "    </tr>\n",
       "    <tr>\n",
       "        <td>Soundtrack</td>\n",
       "        <td>20.79</td>\n",
       "        <td>2</td>\n",
       "        <td>0.19</td>\n",
       "    </tr>\n",
       "    <tr>\n",
       "        <td>TV Shows</td>\n",
       "        <td>9.9</td>\n",
       "        <td>1</td>\n",
       "        <td>0.1</td>\n",
       "    </tr>\n",
       "</table>"
      ],
      "text/plain": [
       "[('Rock', 5568.75, 561, 53.38),\n",
       " ('Alternative & Punk', 1234.53, 130, 12.37),\n",
       " ('Metal', 1025.64, 124, 11.8),\n",
       " ('R&B/Soul', 633.6, 53, 5.04),\n",
       " ('Blues', 453.42, 36, 3.43),\n",
       " ('Alternative', 369.27, 35, 3.33),\n",
       " ('Hip Hop/Rap', 366.3, 20, 1.9),\n",
       " ('Pop', 201.96, 22, 2.09),\n",
       " ('Latin', 162.36, 22, 2.09),\n",
       " ('Jazz', 125.73, 14, 1.33),\n",
       " ('Easy Listening', 95.04, 13, 1.24),\n",
       " ('Reggae', 51.48, 6, 0.57),\n",
       " ('Electronica/Dance', 34.65, 5, 0.48),\n",
       " ('Heavy Metal', 30.69, 3, 0.29),\n",
       " ('Classical', 21.78, 4, 0.38),\n",
       " ('Soundtrack', 20.79, 2, 0.19),\n",
       " ('TV Shows', 9.9, 1, 0.1)]"
      ]
     },
     "execution_count": 17,
     "metadata": {},
     "output_type": "execute_result"
    }
   ],
   "source": [
    "%%sql\n",
    "WITH usa_total_sales AS \n",
    "(\n",
    "    SELECT SUM(il.quantity) total_sales\n",
    "    FROM invoice_line il\n",
    "    INNER JOIN invoice i ON i.invoice_id = il.invoice_id\n",
    "    WHERE i.billing_country = 'USA'\n",
    ") \n",
    "\n",
    "SELECT \n",
    "    g.name genre,\n",
    "    ROUND(SUM(i.total),2) revenue,\n",
    "    SUM(il.quantity) num_sold,\n",
    "    ROUND((SUM(il.quantity) * 100.0 /\n",
    "    (\n",
    "        SELECT total_sales\n",
    "        FROM usa_total_sales\n",
    "    )\n",
    "    ),2) percent_sold\n",
    "    \n",
    "FROM invoice i\n",
    "INNER JOIN invoice_line il ON il.invoice_id = i.invoice_id\n",
    "INNER JOIN track t ON t.track_id = il.track_id\n",
    "INNER JOIN genre g ON g.genre_id = t.genre_id\n",
    "WHERE i.billing_country = 'USA'\n",
    "GROUP BY 1\n",
    "ORDER BY 2 DESC\n"
   ]
  },
  {
   "cell_type": "markdown",
   "metadata": {},
   "source": [
    "From the results above, we can see Rock, Alternative & Punk, and Metal are the three leading genres that sell the most tracks. We only have 1 album within the top 3 genres which is Punk, and even then its split between Alternative and Punk. If we assume that Alternative & Punk are split 50-50 then the number of tracks sold and revenue are still higher than the other three options. Then Blues would come in second, and we have to decide between Pop and Hip-Hop. When we look at the remaining two genres, the genres are close in sales numbers (Pop being slightly ahead), but Hip-Hop makes more revenue. Taking revenue as a more important indicator, this concludes that the three albums we can look to promote are from the artists Regal, Red Tone, and Slim Jim Bites."
   ]
  },
  {
   "cell_type": "markdown",
   "metadata": {},
   "source": [
    "# Analyzing Employee Sales Performance\n",
    "\n",
    "For each customer, the Chinook store assigns a sales support agent within the company when they make the customer makes their first purchase. We want to see how well the sales support agents are performing and if some are doing better than others."
   ]
  },
  {
   "cell_type": "code",
   "execution_count": 7,
   "metadata": {
    "collapsed": true
   },
   "outputs": [],
   "source": [
    "#Finding the total dollar amount of sales assigned to each sales support agent"
   ]
  },
  {
   "cell_type": "code",
   "execution_count": 21,
   "metadata": {
    "collapsed": false,
    "scrolled": false
   },
   "outputs": [
    {
     "name": "stdout",
     "output_type": "stream",
     "text": [
      "Done.\n"
     ]
    },
    {
     "data": {
      "text/html": [
       "<table>\n",
       "    <tr>\n",
       "        <th>employee_name</th>\n",
       "        <th>employee_id</th>\n",
       "        <th>country</th>\n",
       "        <th>state</th>\n",
       "        <th>city</th>\n",
       "        <th>hire_date</th>\n",
       "        <th>total_customers</th>\n",
       "        <th>total_sales</th>\n",
       "    </tr>\n",
       "    <tr>\n",
       "        <td>Jane Peacock</td>\n",
       "        <td>3</td>\n",
       "        <td>Canada</td>\n",
       "        <td>AB</td>\n",
       "        <td>Calgary</td>\n",
       "        <td>2017-04-01 00:00:00</td>\n",
       "        <td>212</td>\n",
       "        <td>1731.51</td>\n",
       "    </tr>\n",
       "    <tr>\n",
       "        <td>Margaret Park</td>\n",
       "        <td>4</td>\n",
       "        <td>Canada</td>\n",
       "        <td>AB</td>\n",
       "        <td>Calgary</td>\n",
       "        <td>2017-05-03 00:00:00</td>\n",
       "        <td>214</td>\n",
       "        <td>1584.0</td>\n",
       "    </tr>\n",
       "    <tr>\n",
       "        <td>Steve Johnson</td>\n",
       "        <td>5</td>\n",
       "        <td>Canada</td>\n",
       "        <td>AB</td>\n",
       "        <td>Calgary</td>\n",
       "        <td>2017-10-17 00:00:00</td>\n",
       "        <td>188</td>\n",
       "        <td>1393.92</td>\n",
       "    </tr>\n",
       "</table>"
      ],
      "text/plain": [
       "[('Jane Peacock', 3, 'Canada', 'AB', 'Calgary', '2017-04-01 00:00:00', 212, 1731.51),\n",
       " ('Margaret Park', 4, 'Canada', 'AB', 'Calgary', '2017-05-03 00:00:00', 214, 1584.0),\n",
       " ('Steve Johnson', 5, 'Canada', 'AB', 'Calgary', '2017-10-17 00:00:00', 188, 1393.92)]"
      ]
     },
     "execution_count": 21,
     "metadata": {},
     "output_type": "execute_result"
    }
   ],
   "source": [
    "%%sql\n",
    "SELECT\n",
    "    e.first_name || \" \" || e.last_name employee_name,\n",
    "    e.employee_id,\n",
    "    e.country,\n",
    "    e.state,\n",
    "    e.city,\n",
    "    e.hire_date,\n",
    "    COUNT(c.customer_id) total_customers,\n",
    "    ROUND(TOTAL(i.total),2) total_sales\n",
    "FROM employee e \n",
    "INNER JOIN customer c ON c.support_rep_id = e.employee_id\n",
    "INNER JOIN invoice i ON i.customer_id = c.customer_id\n",
    "WHERE e.title = 'Sales Support Agent'\n",
    "GROUP BY 1\n",
    "ORDER BY 8 DESC"
   ]
  },
  {
   "cell_type": "markdown",
   "metadata": {},
   "source": [
    "From the results above, there are only three employees with the title 'Sales Support Agent'. Each have similar values in total sales with the lowest being around \\\\$1393.92 dollars and the highest being \\$1731.51. This can be a result from the hire date, as those who have been hired earlier could have more customers or customers for longer to contribute to their total sales number. As we can see from the table above, Jane has the highest total sales and was the first hired sales support agent, while Steve is the opposite.Margaret has more customers, but has only 2 more customers. We can infer that Jane's customer has purchased more tracks than Margaret, but the overall performance is relatively the same/expected based on our deduction."
   ]
  },
  {
   "cell_type": "markdown",
   "metadata": {},
   "source": [
    "# Analyzing Sales by Country\n",
    "\n",
    "The next task is to analyze the sales data for customers from different countries. We will focus only on the country value from the `customers` table and not the country from the billing addresses in the `invoice` table. For each country we want:\n",
    "\n",
    "- total number of customers\n",
    "- total value of sales\n",
    "- average value of sales per custoemr\n",
    "- average order value\n",
    "\n",
    "We'll create a \"Others\" group where countries that only show up once will be placed in."
   ]
  },
  {
   "cell_type": "code",
   "execution_count": 9,
   "metadata": {
    "collapsed": true
   },
   "outputs": [],
   "source": [
    "#finding number of customers and sales from each country, groupoing countries with value '1' into 'Other'"
   ]
  },
  {
   "cell_type": "code",
   "execution_count": 10,
   "metadata": {
    "collapsed": false
   },
   "outputs": [
    {
     "name": "stdout",
     "output_type": "stream",
     "text": [
      "Done.\n"
     ]
    },
    {
     "data": {
      "text/html": [
       "<table>\n",
       "    <tr>\n",
       "        <th>Country</th>\n",
       "        <th>customers</th>\n",
       "        <th>total_sales_value</th>\n",
       "        <th>avg_per_customer</th>\n",
       "        <th>avg_order</th>\n",
       "    </tr>\n",
       "    <tr>\n",
       "        <td>Brazil</td>\n",
       "        <td>5</td>\n",
       "        <td>427.68</td>\n",
       "        <td>85.54</td>\n",
       "        <td>7.01</td>\n",
       "    </tr>\n",
       "    <tr>\n",
       "        <td>Canada</td>\n",
       "        <td>8</td>\n",
       "        <td>535.59</td>\n",
       "        <td>66.95</td>\n",
       "        <td>7.05</td>\n",
       "    </tr>\n",
       "    <tr>\n",
       "        <td>Czech Republic</td>\n",
       "        <td>2</td>\n",
       "        <td>273.24</td>\n",
       "        <td>136.62</td>\n",
       "        <td>9.11</td>\n",
       "    </tr>\n",
       "    <tr>\n",
       "        <td>France</td>\n",
       "        <td>5</td>\n",
       "        <td>389.07</td>\n",
       "        <td>77.81</td>\n",
       "        <td>7.78</td>\n",
       "    </tr>\n",
       "    <tr>\n",
       "        <td>Germany</td>\n",
       "        <td>4</td>\n",
       "        <td>334.62</td>\n",
       "        <td>83.66</td>\n",
       "        <td>8.16</td>\n",
       "    </tr>\n",
       "    <tr>\n",
       "        <td>India</td>\n",
       "        <td>2</td>\n",
       "        <td>183.15</td>\n",
       "        <td>91.57</td>\n",
       "        <td>8.72</td>\n",
       "    </tr>\n",
       "    <tr>\n",
       "        <td>Portugal</td>\n",
       "        <td>2</td>\n",
       "        <td>185.13</td>\n",
       "        <td>92.57</td>\n",
       "        <td>6.38</td>\n",
       "    </tr>\n",
       "    <tr>\n",
       "        <td>USA</td>\n",
       "        <td>13</td>\n",
       "        <td>1040.49</td>\n",
       "        <td>80.04</td>\n",
       "        <td>7.94</td>\n",
       "    </tr>\n",
       "    <tr>\n",
       "        <td>United Kingdom</td>\n",
       "        <td>3</td>\n",
       "        <td>245.52</td>\n",
       "        <td>81.84</td>\n",
       "        <td>8.77</td>\n",
       "    </tr>\n",
       "    <tr>\n",
       "        <td>Other</td>\n",
       "        <td>15</td>\n",
       "        <td>1094.94</td>\n",
       "        <td>73.0</td>\n",
       "        <td>7.45</td>\n",
       "    </tr>\n",
       "</table>"
      ],
      "text/plain": [
       "[('Brazil', 5, 427.68, 85.54, 7.01),\n",
       " ('Canada', 8, 535.59, 66.95, 7.05),\n",
       " ('Czech Republic', 2, 273.24, 136.62, 9.11),\n",
       " ('France', 5, 389.07, 77.81, 7.78),\n",
       " ('Germany', 4, 334.62, 83.66, 8.16),\n",
       " ('India', 2, 183.15, 91.57, 8.72),\n",
       " ('Portugal', 2, 185.13, 92.57, 6.38),\n",
       " ('USA', 13, 1040.49, 80.04, 7.94),\n",
       " ('United Kingdom', 3, 245.52, 81.84, 8.77),\n",
       " ('Other', 15, 1094.94, 73.0, 7.45)]"
      ]
     },
     "execution_count": 10,
     "metadata": {},
     "output_type": "execute_result"
    }
   ],
   "source": [
    "%%sql\n",
    "WITH country_filter AS (\n",
    "    SELECT\n",
    "        country,\n",
    "        CASE\n",
    "            WHEN\n",
    "                COUNT(DISTINCT customer_id) = 1 THEN 'Other'\n",
    "            ELSE\n",
    "                country\n",
    "        END AS other_country\n",
    "    FROM customer \n",
    "    GROUP BY country\n",
    ")\n",
    "\n",
    "SELECT \n",
    "    cf.other_country Country,\n",
    "    COUNT(DISTINCT c.customer_id) customers,\n",
    "    ROUND(SUM (i.total), 2) total_sales_value,\n",
    "    ROUND(SUM(i.total)/COUNT(DISTINCT c.customer_id),2) avg_per_customer,\n",
    "    ROUND(SUM(i.total)/COUNT(DISTINCT i.invoice_id),2) avg_order\n",
    "FROM country_filter cf\n",
    "INNER JOIN customer c ON c.country = cf.country\n",
    "INNER JOIN invoice i ON c.customer_id = i.customer_id\n",
    "GROUP BY 1\n",
    "ORDER BY cf.other_country = 'Other'"
   ]
  },
  {
   "cell_type": "markdown",
   "metadata": {},
   "source": [
    "From the values, we can see that while the most sales in the category of 'Other', USA is the single country that has the most sales. Its interesting to see that the Czech Republic customers spend the most, although there are only two customers from that country. The lowest average sale is from Canada, maybe because of import/export fees. Portugal has the lowest average order, but the second highest average in sales per customer. From this information we can conclude that the USA is the correct market we are focusing on, but with more research we can look at other potential countries to expand the business in."
   ]
  },
  {
   "cell_type": "markdown",
   "metadata": {},
   "source": [
    "# Albums vs Individual Tracks\n",
    "\n",
    "How the Chinook store is currently set up, customers can either purchase whole albums or a collection of one or more individual tracks. The store does not allow customers to purchase albums and then add individual tracks to that same purchase (unless they do that by choosing each track manually). The price charged is the same for albums as if all the tracks were purchased individually. \n",
    "\n",
    "Management is considering changing their purchasing strategy to save money by only purchasing the most popular tracks from each album from record companies instead of the whole album. The next task is to figure out what percentage of purchases are individual tracks vs whole albums, so that management can understand the effect of what will happen if they decide to change their purchasing strategy."
   ]
  },
  {
   "cell_type": "code",
   "execution_count": 11,
   "metadata": {
    "collapsed": true
   },
   "outputs": [],
   "source": [
    "#Categorizing invoices as either track or album purchase"
   ]
  },
  {
   "cell_type": "code",
   "execution_count": 12,
   "metadata": {
    "collapsed": false,
    "scrolled": true
   },
   "outputs": [
    {
     "name": "stdout",
     "output_type": "stream",
     "text": [
      "Done.\n"
     ]
    },
    {
     "data": {
      "text/html": [
       "<table>\n",
       "    <tr>\n",
       "        <th>invoice_type</th>\n",
       "        <th>num_invoices</th>\n",
       "        <th>percent_of_invoice</th>\n",
       "    </tr>\n",
       "    <tr>\n",
       "        <td>Albums</td>\n",
       "        <td>114</td>\n",
       "        <td>18.0</td>\n",
       "    </tr>\n",
       "    <tr>\n",
       "        <td>Tracks</td>\n",
       "        <td>500</td>\n",
       "        <td>81.0</td>\n",
       "    </tr>\n",
       "</table>"
      ],
      "text/plain": [
       "[('Albums', 114, 18.0), ('Tracks', 500, 81.0)]"
      ]
     },
     "execution_count": 12,
     "metadata": {},
     "output_type": "execute_result"
    }
   ],
   "source": [
    "%%sql\n",
    "\n",
    "WITH album_invoice AS   (\n",
    "    SELECT \n",
    "        il.invoice_id,                                     \n",
    "        t.album_id\n",
    "    FROM invoice_line il\n",
    "    LEFT JOIN track t ON t.track_id = il.track_id\n",
    "    GROUP BY 1\n",
    "),\n",
    "\n",
    "     album_or_tracks AS (\n",
    "         SELECT ai.*,\n",
    "             CASE\n",
    "                 WHEN (\n",
    "                     SELECT il.track_id \n",
    "                     FROM invoice_line il\n",
    "                     WHERE il.invoice_id = ai.invoice_id\n",
    "                     EXCEPT                                          \n",
    "                     SELECT t.track_id \n",
    "                     FROM track t\n",
    "                     WHERE t.album_id = ai.album_id) IS NULL\n",
    "                             \n",
    "                 AND (\n",
    "                     SELECT t.track_id \n",
    "                     FROM track t\n",
    "                     WHERE t.album_id = ai.album_id                                         \n",
    "                     EXCEPT                                          \n",
    "                     SELECT il.track_id \n",
    "                     FROM invoice_line il\n",
    "                     WHERE il.invoice_id = ai.invoice_id) IS NULL\n",
    "                                   \n",
    "              THEN \"Albums\"\n",
    "              ELSE \"Tracks\"\n",
    "              END AS invoice_type                             \n",
    "              FROM album_invoice ai\n",
    "     )\n",
    "                           \n",
    "SELECT invoice_type,\n",
    "       COUNT(*) num_invoices,\n",
    "       ROUND(COUNT(*)*100 / (SELECT COUNT(*) FROM invoice), 2) percent_of_invoice\n",
    "FROM album_or_tracks\n",
    "GROUP BY 1"
   ]
  },
  {
   "cell_type": "markdown",
   "metadata": {},
   "source": [
    "From the results we see that customers typically purchase more individual tracks. Usually an album will contain at least around 10 tracks, so profitwise, the album purchases would result into more profit. Also, there is a certain joy where listening throughout the whole album in the correct order to get a sense of artistic feel where individual tracks do not. Based on these reasons, Chinook should continue to purchase full albums from companies."
   ]
  },
  {
   "cell_type": "markdown",
   "metadata": {},
   "source": [
    "# Conclusion\n",
    "\n",
    "We worked on a database that represented a digital media store and answered different possible questions that can be brought up in a real world setting. We analyzed different tables based on employees, countries, albums and invoices, and drew up conclusions based on what we found. Moving forward, other possible questions to answer are:\n",
    "\n",
    "- Which artist is used in the most playlists?\n",
    "- How many tracks have been purchased vs not purchased?\n",
    "- is the range of tracks int he store reflective of their sales popularity?\n",
    "- Do protected vs non-protected media types have an effect on popularity?"
   ]
  }
 ],
 "metadata": {
  "kernelspec": {
   "display_name": "Python 3",
   "language": "python",
   "name": "python3"
  },
  "language_info": {
   "codemirror_mode": {
    "name": "ipython",
    "version": 3
   },
   "file_extension": ".py",
   "mimetype": "text/x-python",
   "name": "python",
   "nbconvert_exporter": "python",
   "pygments_lexer": "ipython3",
   "version": "3.4.3"
  }
 },
 "nbformat": 4,
 "nbformat_minor": 2
}
